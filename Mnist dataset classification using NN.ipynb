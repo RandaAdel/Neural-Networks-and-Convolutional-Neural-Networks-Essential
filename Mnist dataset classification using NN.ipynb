{
  "cells": [
    {
      "metadata": {
        "collapsed": true
      },
      "cell_type": "markdown",
      "source": "# Introduction to Neural Networks"
    },
    {
      "metadata": {},
      "cell_type": "markdown",
      "source": "## Import packages"
    },
    {
      "metadata": {
        "trusted": true
      },
      "cell_type": "code",
      "source": "from keras.datasets import mnist                                                            #Download Data\nfrom keras.preprocessing.image import load_img, array_to_img                                #Used For Preprocessing\nfrom keras.utils.np_utils import to_categorical\nfrom keras.models import Sequential\nfrom keras.layers import Dense                                                              #Fully Connected Layer\n\nimport numpy as np\nimport matplotlib.pyplot as plt\n%matplotlib inline",
      "execution_count": 55,
      "outputs": []
    },
    {
      "metadata": {},
      "cell_type": "markdown",
      "source": "## Load the data"
    },
    {
      "metadata": {
        "trusted": true
      },
      "cell_type": "code",
      "source": "(X_train, y_train), (X_test, y_test) = mnist.load_data()",
      "execution_count": 56,
      "outputs": []
    },
    {
      "metadata": {
        "trusted": true
      },
      "cell_type": "code",
      "source": "print(X_train.shape)\nprint(y_train.shape)\nprint(X_test.shape)\nprint(y_test.shape)",
      "execution_count": 57,
      "outputs": [
        {
          "output_type": "stream",
          "text": "(60000, 28, 28)\n(60000,)\n(10000, 28, 28)\n(10000,)\n",
          "name": "stdout"
        }
      ]
    },
    {
      "metadata": {
        "collapsed": true
      },
      "cell_type": "markdown",
      "source": "## Understanding the image data format"
    },
    {
      "metadata": {
        "trusted": true
      },
      "cell_type": "code",
      "source": "X_train[0].shape",
      "execution_count": 58,
      "outputs": [
        {
          "output_type": "execute_result",
          "execution_count": 58,
          "data": {
            "text/plain": "(28, 28)"
          },
          "metadata": {}
        }
      ]
    },
    {
      "metadata": {
        "trusted": true
      },
      "cell_type": "code",
      "source": "plt.imshow(X_train[0], cmap='gray')",
      "execution_count": 59,
      "outputs": [
        {
          "output_type": "execute_result",
          "execution_count": 59,
          "data": {
            "text/plain": "<matplotlib.image.AxesImage at 0x7f5f34dd3a58>"
          },
          "metadata": {}
        },
        {
          "output_type": "display_data",
          "data": {
            "image/png": "[encoded data removed]",
            "text/plain": "<matplotlib.figure.Figure at 0x7f5f36105278>"
          },
          "metadata": {}
        }
      ]
    },
    {
      "metadata": {
        "trusted": true
      },
      "cell_type": "code",
      "source": "y_train[0]",
      "execution_count": 60,
      "outputs": [
        {
          "output_type": "execute_result",
          "execution_count": 60,
          "data": {
            "text/plain": "5"
          },
          "metadata": {}
        }
      ]
    },
    {
      "metadata": {
        "trusted": true
      },
      "cell_type": "code",
      "source": "",
      "execution_count": null,
      "outputs": []
    },
    {
      "metadata": {},
      "cell_type": "markdown",
      "source": "## Preprocessing the image data"
    },
    {
      "metadata": {
        "trusted": true
      },
      "cell_type": "code",
      "source": "image_height, image_width = 28,28",
      "execution_count": 61,
      "outputs": []
    },
    {
      "metadata": {
        "trusted": true
      },
      "cell_type": "code",
      "source": "X_train = X_train.reshape(60000, image_height*image_width)\nX_test = X_test.reshape(10000, image_height*image_width)\nprint(X_train.shape)\nprint(X_test.shape)",
      "execution_count": 62,
      "outputs": [
        {
          "output_type": "stream",
          "text": "(60000, 784)\n(10000, 784)\n",
          "name": "stdout"
        }
      ]
    },
    {
      "metadata": {
        "trusted": true
      },
      "cell_type": "code",
      "source": "print(X_train[0])                                                                                       #check_the max is 225 \nX_train = X_train.astype('float32')                                                                     #To avoid problems while deviding by 225\nX_test = X_test.astype('float32')",
      "execution_count": 63,
      "outputs": [
        {
          "output_type": "stream",
          "text": "[  0   0   0   0   0   0   0   0   0   0   0   0   0   0   0   0   0   0\n   0   0   0   0   0   0   0   0   0   0   0   0   0   0   0   0   0   0\n   0   0   0   0   0   0   0   0   0   0   0   0   0   0   0   0   0   0\n   0   0   0   0   0   0   0   0   0   0   0   0   0   0   0   0   0   0\n   0   0   0   0   0   0   0   0   0   0   0   0   0   0   0   0   0   0\n   0   0   0   0   0   0   0   0   0   0   0   0   0   0   0   0   0   0\n   0   0   0   0   0   0   0   0   0   0   0   0   0   0   0   0   0   0\n   0   0   0   0   0   0   0   0   0   0   0   0   0   0   0   0   0   0\n   0   0   0   0   0   0   0   0   3  18  18  18 126 136 175  26 166 255\n 247 127   0   0   0   0   0   0   0   0   0   0   0   0  30  36  94 154\n 170 253 253 253 253 253 225 172 253 242 195  64   0   0   0   0   0   0\n   0   0   0   0   0  49 238 253 253 253 253 253 253 253 253 251  93  82\n  82  56  39   0   0   0   0   0   0   0   0   0   0   0   0  18 219 253\n 253 253 253 253 198 182 247 241   0   0   0   0   0   0   0   0   0   0\n   0   0   0   0   0   0   0   0  80 156 107 253 253 205  11   0  43 154\n   0   0   0   0   0   0   0   0   0   0   0   0   0   0   0   0   0   0\n   0  14   1 154 253  90   0   0   0   0   0   0   0   0   0   0   0   0\n   0   0   0   0   0   0   0   0   0   0   0   0   0 139 253 190   2   0\n   0   0   0   0   0   0   0   0   0   0   0   0   0   0   0   0   0   0\n   0   0   0   0   0  11 190 253  70   0   0   0   0   0   0   0   0   0\n   0   0   0   0   0   0   0   0   0   0   0   0   0   0   0   0  35 241\n 225 160 108   1   0   0   0   0   0   0   0   0   0   0   0   0   0   0\n   0   0   0   0   0   0   0   0   0  81 240 253 253 119  25   0   0   0\n   0   0   0   0   0   0   0   0   0   0   0   0   0   0   0   0   0   0\n   0   0  45 186 253 253 150  27   0   0   0   0   0   0   0   0   0   0\n   0   0   0   0   0   0   0   0   0   0   0   0   0  16  93 252 253 187\n   0   0   0   0   0   0   0   0   0   0   0   0   0   0   0   0   0   0\n   0   0   0   0   0   0   0 249 253 249  64   0   0   0   0   0   0   0\n   0   0   0   0   0   0   0   0   0   0   0   0   0   0  46 130 183 253\n 253 207   2   0   0   0   0   0   0   0   0   0   0   0   0   0   0   0\n   0   0   0   0  39 148 229 253 253 253 250 182   0   0   0   0   0   0\n   0   0   0   0   0   0   0   0   0   0   0   0  24 114 221 253 253 253\n 253 201  78   0   0   0   0   0   0   0   0   0   0   0   0   0   0   0\n   0   0  23  66 213 253 253 253 253 198  81   2   0   0   0   0   0   0\n   0   0   0   0   0   0   0   0   0   0  18 171 219 253 253 253 253 195\n  80   9   0   0   0   0   0   0   0   0   0   0   0   0   0   0   0   0\n  55 172 226 253 253 253 253 244 133  11   0   0   0   0   0   0   0   0\n   0   0   0   0   0   0   0   0   0   0 136 253 253 253 212 135 132  16\n   0   0   0   0   0   0   0   0   0   0   0   0   0   0   0   0   0   0\n   0   0   0   0   0   0   0   0   0   0   0   0   0   0   0   0   0   0\n   0   0   0   0   0   0   0   0   0   0   0   0   0   0   0   0   0   0\n   0   0   0   0   0   0   0   0   0   0   0   0   0   0   0   0   0   0\n   0   0   0   0   0   0   0   0   0   0   0   0   0   0   0   0   0   0\n   0   0   0   0   0   0   0   0   0   0]\n",
          "name": "stdout"
        }
      ]
    },
    {
      "metadata": {
        "trusted": true
      },
      "cell_type": "code",
      "source": "X_train /= 255.0                                                                                            #Scale the images\nX_test /= 255.0\nprint(X_train[0])",
      "execution_count": 64,
      "outputs": [
        {
          "output_type": "stream",
          "text": "[0.         0.         0.         0.         0.         0.\n 0.         0.         0.         0.         0.         0.\n 0.         0.         0.         0.         0.         0.\n 0.         0.         0.         0.         0.         0.\n 0.         0.         0.         0.         0.         0.\n 0.         0.         0.         0.         0.         0.\n 0.         0.         0.         0.         0.         0.\n 0.         0.         0.         0.         0.         0.\n 0.         0.         0.         0.         0.         0.\n 0.         0.         0.         0.         0.         0.\n 0.         0.         0.         0.         0.         0.\n 0.         0.         0.         0.         0.         0.\n 0.         0.         0.         0.         0.         0.\n 0.         0.         0.         0.         0.         0.\n 0.         0.         0.         0.         0.         0.\n 0.         0.         0.         0.         0.         0.\n 0.         0.         0.         0.         0.         0.\n 0.         0.         0.         0.         0.         0.\n 0.         0.         0.         0.         0.         0.\n 0.         0.         0.         0.         0.         0.\n 0.         0.         0.         0.         0.         0.\n 0.         0.         0.         0.         0.         0.\n 0.         0.         0.         0.         0.         0.\n 0.         0.         0.         0.         0.         0.\n 0.         0.         0.         0.         0.         0.\n 0.         0.         0.01176471 0.07058824 0.07058824 0.07058824\n 0.49411765 0.53333336 0.6862745  0.10196079 0.6509804  1.\n 0.96862745 0.49803922 0.         0.         0.         0.\n 0.         0.         0.         0.         0.         0.\n 0.         0.         0.11764706 0.14117648 0.36862746 0.6039216\n 0.6666667  0.99215686 0.99215686 0.99215686 0.99215686 0.99215686\n 0.88235295 0.6745098  0.99215686 0.9490196  0.7647059  0.2509804\n 0.         0.         0.         0.         0.         0.\n 0.         0.         0.         0.         0.         0.19215687\n 0.93333334 0.99215686 0.99215686 0.99215686 0.99215686 0.99215686\n 0.99215686 0.99215686 0.99215686 0.9843137  0.3647059  0.32156864\n 0.32156864 0.21960784 0.15294118 0.         0.         0.\n 0.         0.         0.         0.         0.         0.\n 0.         0.         0.         0.07058824 0.85882354 0.99215686\n 0.99215686 0.99215686 0.99215686 0.99215686 0.7764706  0.7137255\n 0.96862745 0.94509804 0.         0.         0.         0.\n 0.         0.         0.         0.         0.         0.\n 0.         0.         0.         0.         0.         0.\n 0.         0.         0.3137255  0.6117647  0.41960785 0.99215686\n 0.99215686 0.8039216  0.04313726 0.         0.16862746 0.6039216\n 0.         0.         0.         0.         0.         0.\n 0.         0.         0.         0.         0.         0.\n 0.         0.         0.         0.         0.         0.\n 0.         0.05490196 0.00392157 0.6039216  0.99215686 0.3529412\n 0.         0.         0.         0.         0.         0.\n 0.         0.         0.         0.         0.         0.\n 0.         0.         0.         0.         0.         0.\n 0.         0.         0.         0.         0.         0.\n 0.         0.54509807 0.99215686 0.74509805 0.00784314 0.\n 0.         0.         0.         0.         0.         0.\n 0.         0.         0.         0.         0.         0.\n 0.         0.         0.         0.         0.         0.\n 0.         0.         0.         0.         0.         0.04313726\n 0.74509805 0.99215686 0.27450982 0.         0.         0.\n 0.         0.         0.         0.         0.         0.\n 0.         0.         0.         0.         0.         0.\n 0.         0.         0.         0.         0.         0.\n 0.         0.         0.         0.         0.13725491 0.94509804\n 0.88235295 0.627451   0.42352942 0.00392157 0.         0.\n 0.         0.         0.         0.         0.         0.\n 0.         0.         0.         0.         0.         0.\n 0.         0.         0.         0.         0.         0.\n 0.         0.         0.         0.31764707 0.9411765  0.99215686\n 0.99215686 0.46666667 0.09803922 0.         0.         0.\n 0.         0.         0.         0.         0.         0.\n 0.         0.         0.         0.         0.         0.\n 0.         0.         0.         0.         0.         0.\n 0.         0.         0.1764706  0.7294118  0.99215686 0.99215686\n 0.5882353  0.10588235 0.         0.         0.         0.\n 0.         0.         0.         0.         0.         0.\n 0.         0.         0.         0.         0.         0.\n 0.         0.         0.         0.         0.         0.\n 0.         0.0627451  0.3647059  0.9882353  0.99215686 0.73333335\n 0.         0.         0.         0.         0.         0.\n 0.         0.         0.         0.         0.         0.\n 0.         0.         0.         0.         0.         0.\n 0.         0.         0.         0.         0.         0.\n 0.         0.9764706  0.99215686 0.9764706  0.2509804  0.\n 0.         0.         0.         0.         0.         0.\n 0.         0.         0.         0.         0.         0.\n 0.         0.         0.         0.         0.         0.\n 0.         0.         0.18039216 0.50980395 0.7176471  0.99215686\n 0.99215686 0.8117647  0.00784314 0.         0.         0.\n 0.         0.         0.         0.         0.         0.\n 0.         0.         0.         0.         0.         0.\n 0.         0.         0.         0.         0.15294118 0.5803922\n 0.8980392  0.99215686 0.99215686 0.99215686 0.98039216 0.7137255\n 0.         0.         0.         0.         0.         0.\n 0.         0.         0.         0.         0.         0.\n 0.         0.         0.         0.         0.         0.\n 0.09411765 0.44705883 0.8666667  0.99215686 0.99215686 0.99215686\n 0.99215686 0.7882353  0.30588236 0.         0.         0.\n 0.         0.         0.         0.         0.         0.\n 0.         0.         0.         0.         0.         0.\n 0.         0.         0.09019608 0.25882354 0.8352941  0.99215686\n 0.99215686 0.99215686 0.99215686 0.7764706  0.31764707 0.00784314\n 0.         0.         0.         0.         0.         0.\n 0.         0.         0.         0.         0.         0.\n 0.         0.         0.         0.         0.07058824 0.67058825\n 0.85882354 0.99215686 0.99215686 0.99215686 0.99215686 0.7647059\n 0.3137255  0.03529412 0.         0.         0.         0.\n 0.         0.         0.         0.         0.         0.\n 0.         0.         0.         0.         0.         0.\n 0.21568628 0.6745098  0.8862745  0.99215686 0.99215686 0.99215686\n 0.99215686 0.95686275 0.52156866 0.04313726 0.         0.\n 0.         0.         0.         0.         0.         0.\n 0.         0.         0.         0.         0.         0.\n 0.         0.         0.         0.         0.53333336 0.99215686\n 0.99215686 0.99215686 0.83137256 0.5294118  0.5176471  0.0627451\n 0.         0.         0.         0.         0.         0.\n 0.         0.         0.         0.         0.         0.\n 0.         0.         0.         0.         0.         0.\n 0.         0.         0.         0.         0.         0.\n 0.         0.         0.         0.         0.         0.\n 0.         0.         0.         0.         0.         0.\n 0.         0.         0.         0.         0.         0.\n 0.         0.         0.         0.         0.         0.\n 0.         0.         0.         0.         0.         0.\n 0.         0.         0.         0.         0.         0.\n 0.         0.         0.         0.         0.         0.\n 0.         0.         0.         0.         0.         0.\n 0.         0.         0.         0.         0.         0.\n 0.         0.         0.         0.         0.         0.\n 0.         0.         0.         0.         0.         0.\n 0.         0.         0.         0.         0.         0.\n 0.         0.         0.         0.        ]\n",
          "name": "stdout"
        }
      ]
    },
    {
      "metadata": {
        "trusted": true
      },
      "cell_type": "code",
      "source": "print(y_train.shape)\nprint(y_test.shape)",
      "execution_count": 65,
      "outputs": [
        {
          "output_type": "stream",
          "text": "(60000,)\n(10000,)\n",
          "name": "stdout"
        }
      ]
    },
    {
      "metadata": {
        "trusted": true
      },
      "cell_type": "code",
      "source": "y_train[0]",
      "execution_count": 66,
      "outputs": [
        {
          "output_type": "execute_result",
          "execution_count": 66,
          "data": {
            "text/plain": "5"
          },
          "metadata": {}
        }
      ]
    },
    {
      "metadata": {
        "trusted": true
      },
      "cell_type": "code",
      "source": "y_train = to_categorical(y_train, 10)\ny_test = to_categorical(y_test, 10)\nprint(y_train.shape)\nprint(y_test.shape)",
      "execution_count": 67,
      "outputs": [
        {
          "output_type": "stream",
          "text": "(60000, 10)\n(10000, 10)\n",
          "name": "stdout"
        }
      ]
    },
    {
      "metadata": {
        "trusted": true
      },
      "cell_type": "code",
      "source": "print(y_train[0])",
      "execution_count": 68,
      "outputs": [
        {
          "output_type": "stream",
          "text": "[0. 0. 0. 0. 0. 1. 0. 0. 0. 0.]\n",
          "name": "stdout"
        }
      ]
    },
    {
      "metadata": {
        "trusted": true
      },
      "cell_type": "code",
      "source": "",
      "execution_count": null,
      "outputs": []
    },
    {
      "metadata": {
        "collapsed": true
      },
      "cell_type": "markdown",
      "source": "## Build a model"
    },
    {
      "metadata": {
        "trusted": true
      },
      "cell_type": "code",
      "source": "model = Sequential()",
      "execution_count": 69,
      "outputs": []
    },
    {
      "metadata": {
        "trusted": true
      },
      "cell_type": "code",
      "source": "model.add(Dense(512, activation='relu', input_shape=(784, )))                               #Input layer with 28*28 as input\nmodel.add(Dense(512, activation='relu'))                                                   #Second Layer and the input can be dedicted no need to specify it\nmodel.add(Dense(10, activation='softmax'))                                                   ",
      "execution_count": 70,
      "outputs": []
    },
    {
      "metadata": {
        "trusted": true
      },
      "cell_type": "code",
      "source": "",
      "execution_count": null,
      "outputs": []
    },
    {
      "metadata": {
        "collapsed": true
      },
      "cell_type": "markdown",
      "source": "## Compile the model"
    },
    {
      "metadata": {
        "trusted": true
      },
      "cell_type": "code",
      "source": "model.compile(optimizer='adam', loss='categorical_crossentropy', metrics=['accuracy'])",
      "execution_count": 71,
      "outputs": []
    },
    {
      "metadata": {
        "trusted": true
      },
      "cell_type": "code",
      "source": "model.summary()",
      "execution_count": 72,
      "outputs": [
        {
          "output_type": "stream",
          "text": "_________________________________________________________________\nLayer (type)                 Output Shape              Param #   \n=================================================================\ndense_7 (Dense)              (None, 512)               401920    \n_________________________________________________________________\ndense_8 (Dense)              (None, 512)               262656    \n_________________________________________________________________\ndense_9 (Dense)              (None, 10)                5130      \n=================================================================\nTotal params: 669,706\nTrainable params: 669,706\nNon-trainable params: 0\n_________________________________________________________________\n",
          "name": "stdout"
        }
      ]
    },
    {
      "metadata": {},
      "cell_type": "markdown",
      "source": "Calculate param #"
    },
    {
      "metadata": {
        "trusted": true
      },
      "cell_type": "code",
      "source": "28*28*512+512",
      "execution_count": 73,
      "outputs": [
        {
          "output_type": "execute_result",
          "execution_count": 73,
          "data": {
            "text/plain": "401920"
          },
          "metadata": {}
        }
      ]
    },
    {
      "metadata": {
        "trusted": true
      },
      "cell_type": "code",
      "source": "512*512+512",
      "execution_count": 74,
      "outputs": [
        {
          "output_type": "execute_result",
          "execution_count": 74,
          "data": {
            "text/plain": "262656"
          },
          "metadata": {}
        }
      ]
    },
    {
      "metadata": {
        "trusted": true
      },
      "cell_type": "code",
      "source": "512*10+10",
      "execution_count": 75,
      "outputs": [
        {
          "output_type": "execute_result",
          "execution_count": 75,
          "data": {
            "text/plain": "5130"
          },
          "metadata": {}
        }
      ]
    },
    {
      "metadata": {
        "trusted": true
      },
      "cell_type": "code",
      "source": "",
      "execution_count": null,
      "outputs": []
    },
    {
      "metadata": {
        "collapsed": true
      },
      "cell_type": "markdown",
      "source": "## Train the model"
    },
    {
      "metadata": {
        "trusted": true
      },
      "cell_type": "code",
      "source": "history = model.fit(X_train, y_train, epochs=20, validation_data=(X_test, y_test))",
      "execution_count": 76,
      "outputs": [
        {
          "output_type": "stream",
          "text": "Train on 60000 samples, validate on 10000 samples\nEpoch 1/20\n60000/60000 [==============================] - 29s - loss: 0.1844 - acc: 0.9443 - val_loss: 0.1379 - val_acc: 0.9551\nEpoch 2/20\n60000/60000 [==============================] - 27s - loss: 0.0816 - acc: 0.9740 - val_loss: 0.0810 - val_acc: 0.9754\nEpoch 3/20\n60000/60000 [==============================] - 29s - loss: 0.0566 - acc: 0.9823 - val_loss: 0.0891 - val_acc: 0.9726\nEpoch 4/20\n60000/60000 [==============================] - 29s - loss: 0.0426 - acc: 0.9861 - val_loss: 0.0827 - val_acc: 0.9774\nEpoch 5/20\n60000/60000 [==============================] - 28s - loss: 0.0343 - acc: 0.9894 - val_loss: 0.0758 - val_acc: 0.9793\nEpoch 6/20\n60000/60000 [==============================] - 27s - loss: 0.0288 - acc: 0.9909 - val_loss: 0.0880 - val_acc: 0.9810\nEpoch 7/20\n60000/60000 [==============================] - 28s - loss: 0.0252 - acc: 0.9920 - val_loss: 0.0823 - val_acc: 0.9814\nEpoch 8/20\n60000/60000 [==============================] - 27s - loss: 0.0243 - acc: 0.9924 - val_loss: 0.0815 - val_acc: 0.9826\nEpoch 9/20\n60000/60000 [==============================] - 27s - loss: 0.0197 - acc: 0.9940 - val_loss: 0.0917 - val_acc: 0.9811\nEpoch 10/20\n60000/60000 [==============================] - 27s - loss: 0.0216 - acc: 0.9935 - val_loss: 0.1161 - val_acc: 0.9751\nEpoch 11/20\n60000/60000 [==============================] - 26s - loss: 0.0182 - acc: 0.9945 - val_loss: 0.1165 - val_acc: 0.9779\nEpoch 12/20\n60000/60000 [==============================] - 27s - loss: 0.0143 - acc: 0.9959 - val_loss: 0.1097 - val_acc: 0.9800\nEpoch 13/20\n60000/60000 [==============================] - 27s - loss: 0.0191 - acc: 0.9948 - val_loss: 0.1237 - val_acc: 0.9778\nEpoch 14/20\n60000/60000 [==============================] - 26s - loss: 0.0157 - acc: 0.9955 - val_loss: 0.1207 - val_acc: 0.9806\nEpoch 15/20\n60000/60000 [==============================] - 27s - loss: 0.0111 - acc: 0.9968 - val_loss: 0.1470 - val_acc: 0.9774\nEpoch 16/20\n60000/60000 [==============================] - 27s - loss: 0.0167 - acc: 0.9954 - val_loss: 0.1197 - val_acc: 0.9803\nEpoch 17/20\n60000/60000 [==============================] - 27s - loss: 0.0113 - acc: 0.9970 - val_loss: 0.1361 - val_acc: 0.9798\nEpoch 18/20\n60000/60000 [==============================] - 27s - loss: 0.0170 - acc: 0.9959 - val_loss: 0.1353 - val_acc: 0.9799\nEpoch 19/20\n60000/60000 [==============================] - 27s - loss: 0.0129 - acc: 0.9969 - val_loss: 0.1229 - val_acc: 0.9805\nEpoch 20/20\n60000/60000 [==============================] - 34s - loss: 0.0127 - acc: 0.9972 - val_loss: 0.1325 - val_acc: 0.9810\n",
          "name": "stdout"
        }
      ]
    },
    {
      "metadata": {
        "trusted": false
      },
      "cell_type": "code",
      "source": "",
      "execution_count": null,
      "outputs": []
    },
    {
      "metadata": {},
      "cell_type": "markdown",
      "source": "## What is the accuracy of the model?"
    },
    {
      "metadata": {},
      "cell_type": "markdown",
      "source": "### Plot the accuracy of the training model"
    },
    {
      "metadata": {
        "trusted": true
      },
      "cell_type": "code",
      "source": "plt.plot(history.history['acc'])",
      "execution_count": 77,
      "outputs": [
        {
          "output_type": "execute_result",
          "execution_count": 77,
          "data": {
            "text/plain": "[<matplotlib.lines.Line2D at 0x7f5f348a21d0>]"
          },
          "metadata": {}
        },
        {
          "output_type": "display_data",
          "data": {
            "image/png": "[encoded data removed]",
            "text/plain": "<matplotlib.figure.Figure at 0x7f5f34d13320>"
          },
          "metadata": {}
        }
      ]
    },
    {
      "metadata": {
        "collapsed": true
      },
      "cell_type": "markdown",
      "source": "### Plot the accuracy of training and validation set"
    },
    {
      "metadata": {
        "trusted": true
      },
      "cell_type": "code",
      "source": "plt.plot(history.history['acc'])\nplt.plot(history.history['val_acc'])",
      "execution_count": 78,
      "outputs": [
        {
          "output_type": "execute_result",
          "execution_count": 78,
          "data": {
            "text/plain": "[<matplotlib.lines.Line2D at 0x7f5f3485b588>]"
          },
          "metadata": {}
        },
        {
          "output_type": "display_data",
          "data": {
            "image/png": "[encoded data removed]",
            "text/plain": "<matplotlib.figure.Figure at 0x7f5f348b1898>"
          },
          "metadata": {}
        }
      ]
    },
    {
      "metadata": {
        "collapsed": true
      },
      "cell_type": "markdown",
      "source": "### Accuracy of training and validation with loss"
    },
    {
      "metadata": {
        "trusted": true
      },
      "cell_type": "code",
      "source": "plt.plot(history.history['acc'])\nplt.plot(history.history['val_acc'])\nplt.plot(history.history['loss'])",
      "execution_count": 79,
      "outputs": [
        {
          "output_type": "execute_result",
          "execution_count": 79,
          "data": {
            "text/plain": "[<matplotlib.lines.Line2D at 0x7f5f345d6c50>]"
          },
          "metadata": {}
        },
        {
          "output_type": "display_data",
          "data": {
            "image/png": "[encoded data removed]",
            "text/plain": "<matplotlib.figure.Figure at 0x7f5f34887da0>"
          },
          "metadata": {}
        }
      ]
    },
    {
      "metadata": {
        "collapsed": true
      },
      "cell_type": "markdown",
      "source": "## Run a prediction"
    },
    {
      "metadata": {
        "trusted": true
      },
      "cell_type": "code",
      "source": "score = model.evaluate(X_test, y_test)",
      "execution_count": 80,
      "outputs": [
        {
          "output_type": "stream",
          "text": " 9600/10000 [===========================>..] - ETA: 0s",
          "name": "stdout"
        }
      ]
    },
    {
      "metadata": {
        "trusted": true
      },
      "cell_type": "code",
      "source": "score",
      "execution_count": 81,
      "outputs": [
        {
          "output_type": "execute_result",
          "execution_count": 81,
          "data": {
            "text/plain": "[0.13245663974386265, 0.981]"
          },
          "metadata": {}
        }
      ]
    },
    {
      "metadata": {
        "trusted": false
      },
      "cell_type": "code",
      "source": "",
      "execution_count": null,
      "outputs": []
    },
    {
      "metadata": {
        "collapsed": true
      },
      "cell_type": "markdown",
      "source": "## Experiment further\n- What results do you get with a model with more than 2 hidden layers and more/less neurons\n- What results do you get when trying to use another activation function?"
    },
    {
      "metadata": {
        "trusted": true
      },
      "cell_type": "code",
      "source": "model2 = Sequential()\nmodel2.add(Dense(512, activation='relu', input_shape=(784, )))                           \nmodel2.add(Dense(512, activation='tanh'))                                                \nmodel2.add(Dense(128, activation='tanh'))\nmodel2.add(Dense(10, activation='softmax')) \nmodel2.compile(optimizer='adam', loss='categorical_crossentropy', metrics=['accuracy'])\nmodel2.summary()",
      "execution_count": 84,
      "outputs": [
        {
          "output_type": "stream",
          "text": "_________________________________________________________________\nLayer (type)                 Output Shape              Param #   \n=================================================================\ndense_18 (Dense)             (None, 512)               401920    \n_________________________________________________________________\ndense_19 (Dense)             (None, 512)               262656    \n_________________________________________________________________\ndense_20 (Dense)             (None, 128)               65664     \n_________________________________________________________________\ndense_21 (Dense)             (None, 10)                1290      \n=================================================================\nTotal params: 731,530\nTrainable params: 731,530\nNon-trainable params: 0\n_________________________________________________________________\n",
          "name": "stdout"
        }
      ]
    },
    {
      "metadata": {
        "trusted": true
      },
      "cell_type": "code",
      "source": "history2 = model2.fit(X_train, y_train, epochs=20, validation_data=(X_test, y_test))",
      "execution_count": 85,
      "outputs": [
        {
          "output_type": "stream",
          "text": "Train on 60000 samples, validate on 10000 samples\nEpoch 1/20\n60000/60000 [==============================] - 31s - loss: 0.1881 - acc: 0.9428 - val_loss: 0.1107 - val_acc: 0.9654\nEpoch 2/20\n60000/60000 [==============================] - 31s - loss: 0.0911 - acc: 0.9720 - val_loss: 0.0906 - val_acc: 0.9737\nEpoch 3/20\n60000/60000 [==============================] - 31s - loss: 0.0683 - acc: 0.9786 - val_loss: 0.0881 - val_acc: 0.9758\nEpoch 4/20\n60000/60000 [==============================] - 31s - loss: 0.0537 - acc: 0.9837 - val_loss: 0.0908 - val_acc: 0.9751\nEpoch 5/20\n60000/60000 [==============================] - 31s - loss: 0.0416 - acc: 0.9870 - val_loss: 0.0869 - val_acc: 0.9759\nEpoch 6/20\n60000/60000 [==============================] - 31s - loss: 0.0367 - acc: 0.9885 - val_loss: 0.0739 - val_acc: 0.9799\nEpoch 7/20\n60000/60000 [==============================] - 31s - loss: 0.0298 - acc: 0.9903 - val_loss: 0.0937 - val_acc: 0.9759\nEpoch 8/20\n60000/60000 [==============================] - 31s - loss: 0.0304 - acc: 0.9903 - val_loss: 0.0757 - val_acc: 0.9792\nEpoch 9/20\n60000/60000 [==============================] - 32s - loss: 0.0234 - acc: 0.9927 - val_loss: 0.0785 - val_acc: 0.9799\nEpoch 10/20\n60000/60000 [==============================] - 32s - loss: 0.0215 - acc: 0.9928 - val_loss: 0.0765 - val_acc: 0.9786\nEpoch 11/20\n60000/60000 [==============================] - 32s - loss: 0.0179 - acc: 0.9942 - val_loss: 0.0840 - val_acc: 0.9786\nEpoch 12/20\n60000/60000 [==============================] - 31s - loss: 0.0178 - acc: 0.9944 - val_loss: 0.0701 - val_acc: 0.9827\nEpoch 13/20\n60000/60000 [==============================] - 31s - loss: 0.0151 - acc: 0.9954 - val_loss: 0.0761 - val_acc: 0.9817\nEpoch 14/20\n60000/60000 [==============================] - 31s - loss: 0.0153 - acc: 0.9951 - val_loss: 0.0811 - val_acc: 0.9799\nEpoch 15/20\n60000/60000 [==============================] - 32s - loss: 0.0111 - acc: 0.9966 - val_loss: 0.0769 - val_acc: 0.9824\nEpoch 16/20\n60000/60000 [==============================] - 31s - loss: 0.0137 - acc: 0.9954 - val_loss: 0.0854 - val_acc: 0.9811\nEpoch 17/20\n60000/60000 [==============================] - 32s - loss: 0.0124 - acc: 0.9961 - val_loss: 0.0825 - val_acc: 0.9815\nEpoch 18/20\n60000/60000 [==============================] - 44s - loss: 0.0107 - acc: 0.9969 - val_loss: 0.0842 - val_acc: 0.9819\nEpoch 19/20\n60000/60000 [==============================] - 31s - loss: 0.0128 - acc: 0.9960 - val_loss: 0.0875 - val_acc: 0.9821\nEpoch 20/20\n60000/60000 [==============================] - 30s - loss: 0.0080 - acc: 0.9974 - val_loss: 0.0975 - val_acc: 0.9802\n",
          "name": "stdout"
        }
      ]
    },
    {
      "metadata": {
        "trusted": true
      },
      "cell_type": "code",
      "source": "plt.plot(history.history['acc'])\nplt.plot(history.history['val_acc'])",
      "execution_count": 88,
      "outputs": [
        {
          "output_type": "execute_result",
          "execution_count": 88,
          "data": {
            "text/plain": "[<matplotlib.lines.Line2D at 0x7f5f2def8860>]"
          },
          "metadata": {}
        },
        {
          "output_type": "display_data",
          "data": {
            "image/png": "[encoded data removed]",
            "text/plain": "<matplotlib.figure.Figure at 0x7f5f2df1bdd8>"
          },
          "metadata": {}
        }
      ]
    },
    {
      "metadata": {
        "trusted": true
      },
      "cell_type": "code",
      "source": "plt.plot(history.history['acc'])\nplt.plot(history.history['val_acc'])\nplt.plot(history.history['loss'])",
      "execution_count": 89,
      "outputs": [
        {
          "output_type": "execute_result",
          "execution_count": 89,
          "data": {
            "text/plain": "[<matplotlib.lines.Line2D at 0x7f5f2deb3e80>]"
          },
          "metadata": {}
        },
        {
          "output_type": "display_data",
          "data": {
            "image/png": "[encoded data removed]",
            "text/plain": "<matplotlib.figure.Figure at 0x7f5f2dedf208>"
          },
          "metadata": {}
        }
      ]
    },
    {
      "metadata": {
        "trusted": true
      },
      "cell_type": "code",
      "source": "score2 = model2.evaluate(X_test, y_test)\nscore2",
      "execution_count": 90,
      "outputs": [
        {
          "output_type": "stream",
          "text": " 9920/10000 [============================>.] - ETA: 0s",
          "name": "stdout"
        },
        {
          "output_type": "execute_result",
          "execution_count": 90,
          "data": {
            "text/plain": "[0.09746008698121732, 0.9802]"
          },
          "metadata": {}
        }
      ]
    },
    {
      "metadata": {
        "trusted": false
      },
      "cell_type": "code",
      "source": "",
      "execution_count": null,
      "outputs": []
    },
    {
      "metadata": {},
      "cell_type": "markdown",
      "source": "# Convolution Neural Network"
    },
    {
      "metadata": {
        "collapsed": true
      },
      "cell_type": "markdown",
      "source": "## Import the libraries"
    },
    {
      "metadata": {
        "trusted": true
      },
      "cell_type": "code",
      "source": "from keras.layers import Conv2D, MaxPooling2D, Flatten,Dense\nfrom keras.models import Sequential\nfrom keras.datasets import mnist\nfrom keras.utils import to_categorical",
      "execution_count": 91,
      "outputs": []
    },
    {
      "metadata": {
        "collapsed": true
      },
      "cell_type": "markdown",
      "source": "## Load the data"
    },
    {
      "metadata": {
        "trusted": true
      },
      "cell_type": "code",
      "source": "(X_train, y_train), (X_test, y_test) = mnist.load_data()",
      "execution_count": 92,
      "outputs": []
    },
    {
      "metadata": {
        "trusted": true
      },
      "cell_type": "code",
      "source": "print(X_train.shape)\nprint(y_train.shape)\nprint(X_test.shape)\nprint(y_test.shape)",
      "execution_count": 93,
      "outputs": [
        {
          "output_type": "stream",
          "text": "(60000, 28, 28)\n(60000,)\n(10000, 28, 28)\n(10000,)\n",
          "name": "stdout"
        }
      ]
    },
    {
      "metadata": {
        "collapsed": true
      },
      "cell_type": "markdown",
      "source": "## Pre-processing"
    },
    {
      "metadata": {
        "trusted": true
      },
      "cell_type": "code",
      "source": "batch_size = 128\nnum_classes = 10\nepochs = 3\n\nX_train = X_train.reshape(60000,28,28,1)\nX_test = X_test.reshape(10000,28,28,1)\nX_train = X_train.astype('float32')\nX_test = X_test.astype('float32')\nX_train /= 255.0\nX_test /= 255.0\ny_train = to_categorical(y_train,num_classes)\ny_test = to_categorical(y_test, num_classes)",
      "execution_count": 97,
      "outputs": []
    },
    {
      "metadata": {
        "trusted": true
      },
      "cell_type": "code",
      "source": "print(X_train.shape)\nprint(y_train.shape)\nprint(X_test.shape)\nprint(y_test.shape)",
      "execution_count": 98,
      "outputs": [
        {
          "output_type": "stream",
          "text": "(60000, 28, 28, 1)\n(60000, 10)\n(10000, 28, 28, 1)\n(10000, 10)\n",
          "name": "stdout"
        }
      ]
    },
    {
      "metadata": {
        "collapsed": true
      },
      "cell_type": "markdown",
      "source": "## Use the model"
    },
    {
      "metadata": {
        "trusted": true
      },
      "cell_type": "code",
      "source": "cnn = Sequential()\ncnn.add(Conv2D(32, kernel_size=(3,3),input_shape=(28,28,1), padding='same', activation='relu'))\ncnn.add(MaxPooling2D())\ncnn.add(Conv2D(32, kernel_size=(3,3),padding='same', activation='relu'))\ncnn.add(MaxPooling2D())\ncnn.add(Flatten())\ncnn.add(Dense(64,activation='relu'))\ncnn.add(Dense(10,activation='softmax'))\ncnn.compile(optimizer='adam',loss='categorical_crossentropy',metrics=['accuracy'])\nprint(cnn.summary())",
      "execution_count": 99,
      "outputs": [
        {
          "output_type": "stream",
          "text": "_________________________________________________________________\nLayer (type)                 Output Shape              Param #   \n=================================================================\nconv2d_1 (Conv2D)            (None, 28, 28, 32)        320       \n_________________________________________________________________\nmax_pooling2d_1 (MaxPooling2 (None, 14, 14, 32)        0         \n_________________________________________________________________\nconv2d_2 (Conv2D)            (None, 14, 14, 32)        9248      \n_________________________________________________________________\nmax_pooling2d_2 (MaxPooling2 (None, 7, 7, 32)          0         \n_________________________________________________________________\nflatten_1 (Flatten)          (None, 1568)              0         \n_________________________________________________________________\ndense_22 (Dense)             (None, 64)                100416    \n_________________________________________________________________\ndense_23 (Dense)             (None, 10)                650       \n=================================================================\nTotal params: 110,634\nTrainable params: 110,634\nNon-trainable params: 0\n_________________________________________________________________\nNone\n",
          "name": "stdout"
        }
      ]
    },
    {
      "metadata": {
        "trusted": true
      },
      "cell_type": "code",
      "source": "history_cnn = cnn.fit(X_train,y_train,epochs=20,verbose=1,validation_data=(X_train,y_train))",
      "execution_count": 100,
      "outputs": [
        {
          "output_type": "stream",
          "text": "Train on 60000 samples, validate on 60000 samples\nEpoch 1/20\n60000/60000 [==============================] - 110s - loss: 2.3015 - acc: 0.1114 - val_loss: 2.3013 - val_acc: 0.1124\nEpoch 2/20\n60000/60000 [==============================] - 117s - loss: 2.3014 - acc: 0.1124 - val_loss: 2.3012 - val_acc: 0.1124\nEpoch 3/20\n60000/60000 [==============================] - 100s - loss: 2.3014 - acc: 0.1124 - val_loss: 2.3012 - val_acc: 0.1124\nEpoch 4/20\n60000/60000 [==============================] - 108s - loss: 2.3014 - acc: 0.1124 - val_loss: 2.3012 - val_acc: 0.1124\nEpoch 5/20\n60000/60000 [==============================] - 105s - loss: 2.3014 - acc: 0.1124 - val_loss: 2.3012 - val_acc: 0.1124\nEpoch 6/20\n60000/60000 [==============================] - 101s - loss: 2.3014 - acc: 0.1124 - val_loss: 2.3012 - val_acc: 0.1124\nEpoch 7/20\n60000/60000 [==============================] - 98s - loss: 2.3014 - acc: 0.1124 - val_loss: 2.3012 - val_acc: 0.1124\nEpoch 8/20\n60000/60000 [==============================] - 100s - loss: 2.3014 - acc: 0.1124 - val_loss: 2.3012 - val_acc: 0.1124\nEpoch 9/20\n60000/60000 [==============================] - 98s - loss: 2.3014 - acc: 0.1124 - val_loss: 2.3012 - val_acc: 0.1124\nEpoch 10/20\n60000/60000 [==============================] - 100s - loss: 2.3014 - acc: 0.1124 - val_loss: 2.3012 - val_acc: 0.1124\nEpoch 11/20\n60000/60000 [==============================] - 98s - loss: 2.3014 - acc: 0.1124 - val_loss: 2.3012 - val_acc: 0.1124\nEpoch 12/20\n60000/60000 [==============================] - 99s - loss: 2.3014 - acc: 0.1124 - val_loss: 2.3012 - val_acc: 0.1124\nEpoch 13/20\n60000/60000 [==============================] - 100s - loss: 2.3013 - acc: 0.1124 - val_loss: 2.3012 - val_acc: 0.1124\nEpoch 14/20\n60000/60000 [==============================] - 101s - loss: 2.3014 - acc: 0.1124 - val_loss: 2.3012 - val_acc: 0.1124\nEpoch 15/20\n60000/60000 [==============================] - 98s - loss: 2.3014 - acc: 0.1124 - val_loss: 2.3012 - val_acc: 0.1124\nEpoch 16/20\n60000/60000 [==============================] - 99s - loss: 2.3013 - acc: 0.1124 - val_loss: 2.3013 - val_acc: 0.1124\nEpoch 17/20\n60000/60000 [==============================] - 99s - loss: 2.3014 - acc: 0.1124 - val_loss: 2.3012 - val_acc: 0.1124\nEpoch 18/20\n60000/60000 [==============================] - 98s - loss: 2.3013 - acc: 0.1124 - val_loss: 2.3012 - val_acc: 0.1124\nEpoch 19/20\n60000/60000 [==============================] - 105s - loss: 2.3014 - acc: 0.1124 - val_loss: 2.3012 - val_acc: 0.1124\nEpoch 20/20\n60000/60000 [==============================] - 114s - loss: 2.3014 - acc: 0.1124 - val_loss: 2.3012 - val_acc: 0.1124\n",
          "name": "stdout"
        }
      ]
    },
    {
      "metadata": {
        "collapsed": true
      },
      "cell_type": "markdown",
      "source": "Recall that when using neural networks we got good accuracy."
    },
    {
      "metadata": {
        "trusted": true
      },
      "cell_type": "code",
      "source": "plt.plot(history.history['acc'])\nplt.plot(history.history['val_acc'])",
      "execution_count": 101,
      "outputs": [
        {
          "output_type": "execute_result",
          "execution_count": 101,
          "data": {
            "text/plain": "[<matplotlib.lines.Line2D at 0x7f5f2d65f7b8>]"
          },
          "metadata": {}
        },
        {
          "output_type": "display_data",
          "data": {
            "image/png": "[encoded data removed]",
            "text/plain": "<matplotlib.figure.Figure at 0x7f5f2d65b4e0>"
          },
          "metadata": {}
        }
      ]
    },
    {
      "metadata": {},
      "cell_type": "markdown",
      "source": "Comparing this to using CNNs - the performance is far superior."
    },
    {
      "metadata": {
        "trusted": true
      },
      "cell_type": "code",
      "source": "plt.plot(history.history['acc'])\nplt.plot(history.history['val_acc'])\nplt.plot(history_cnn.history['acc'])\nplt.plot(history_cnn.history['val_acc'])",
      "execution_count": 102,
      "outputs": [
        {
          "output_type": "execute_result",
          "execution_count": 102,
          "data": {
            "text/plain": "[<matplotlib.lines.Line2D at 0x7f5f2cdc0cc0>]"
          },
          "metadata": {}
        },
        {
          "output_type": "display_data",
          "data": {
            "image/png": "[encoded data removed]",
            "text/plain": "<matplotlib.figure.Figure at 0x7f5f2d672e80>"
          },
          "metadata": {}
        }
      ]
    },
    {
      "metadata": {
        "trusted": true
      },
      "cell_type": "code",
      "source": "",
      "execution_count": null,
      "outputs": []
    }
  ],
  "metadata": {
    "kernelspec": {
      "name": "python3",
      "display_name": "Python 3",
      "language": "python"
    },
    "language_info": {
      "mimetype": "text/x-python",
      "nbconvert_exporter": "python",
      "name": "python",
      "pygments_lexer": "ipython3",
      "version": "3.5.4",
      "file_extension": ".py",
      "codemirror_mode": {
        "version": 3,
        "name": "ipython"
      }
    }
  },
  "nbformat": 4,
  "nbformat_minor": 2
}